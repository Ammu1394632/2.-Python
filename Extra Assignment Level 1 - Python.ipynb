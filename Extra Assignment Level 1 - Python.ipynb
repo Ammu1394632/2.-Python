{
 "cells": [
  {
   "cell_type": "code",
   "execution_count": 1,
   "id": "98d5b02d",
   "metadata": {},
   "outputs": [
    {
     "name": "stdout",
     "output_type": "stream",
     "text": [
      "HOPE AI\n"
     ]
    }
   ],
   "source": [
    "print(\"HOPE AI\")"
   ]
  },
  {
   "cell_type": "code",
   "execution_count": 2,
   "id": "66adcc46",
   "metadata": {},
   "outputs": [
    {
     "name": "stdout",
     "output_type": "stream",
     "text": [
      "Enter your Institute name:HOPE AI\n"
     ]
    }
   ],
   "source": [
    "name=input(\"Enter your Institute name:\")"
   ]
  },
  {
   "cell_type": "code",
   "execution_count": 3,
   "id": "77de9f63",
   "metadata": {},
   "outputs": [
    {
     "name": "stdout",
     "output_type": "stream",
     "text": [
      "Enter your name:Alamelu S\n",
      "Enter your age:34\n",
      "Enter your school name:Savitri vidya sala\n",
      "Enter your degree:MBA Finance\n"
     ]
    }
   ],
   "source": [
    "name=input(\"Enter your name:\")\n",
    "age=int(input(\"Enter your age:\"))\n",
    "School=input(\"Enter your school name:\")\n",
    "degree=input(\"Enter your degree:\")"
   ]
  },
  {
   "cell_type": "code",
   "execution_count": 4,
   "id": "10ba7b20",
   "metadata": {},
   "outputs": [
    {
     "name": "stdout",
     "output_type": "stream",
     "text": [
      "Enter the num1:43\n",
      "Enter the num2:34\n",
      "77\n"
     ]
    }
   ],
   "source": [
    "a=int(input(\"Enter the num1:\"))\n",
    "b=int(input(\"Enter the num2:\"))\n",
    "add=a+b\n",
    "print(add)"
   ]
  },
  {
   "cell_type": "code",
   "execution_count": 5,
   "id": "88108495",
   "metadata": {},
   "outputs": [
    {
     "name": "stdout",
     "output_type": "stream",
     "text": [
      "9\n"
     ]
    }
   ],
   "source": [
    "sub=a-b\n",
    "print(sub)"
   ]
  },
  {
   "cell_type": "code",
   "execution_count": 6,
   "id": "03ada603",
   "metadata": {},
   "outputs": [
    {
     "name": "stdout",
     "output_type": "stream",
     "text": [
      "Enter the num1:63\n",
      "Enter the num2:97\n",
      "6111\n"
     ]
    }
   ],
   "source": [
    "a=int(input(\"Enter the num1:\"))\n",
    "b=int(input(\"Enter the num2:\"))\n",
    "mul=a*b\n",
    "print(mul)"
   ]
  },
  {
   "cell_type": "code",
   "execution_count": 7,
   "id": "67152896",
   "metadata": {},
   "outputs": [
    {
     "name": "stdout",
     "output_type": "stream",
     "text": [
      "Enter the num1:76\n",
      "Enter the num2:31\n",
      "2.4516129032258065\n"
     ]
    }
   ],
   "source": [
    "a=int(input(\"Enter the num1:\"))\n",
    "b=int(input(\"Enter the num2:\"))\n",
    "div=a/b\n",
    "print(div)"
   ]
  },
  {
   "cell_type": "code",
   "execution_count": 1,
   "id": "1891c8ba",
   "metadata": {},
   "outputs": [
    {
     "name": "stdout",
     "output_type": "stream",
     "text": [
      "Enter the num1:76\n",
      "Enter the num2:31\n"
     ]
    }
   ],
   "source": [
    "a=int(input(\"Enter the num1:\"))\n",
    "b=int(input(\"Enter the num2:\"))"
   ]
  },
  {
   "cell_type": "code",
   "execution_count": 3,
   "id": "38ade16b",
   "metadata": {},
   "outputs": [],
   "source": [
    "div=a/b"
   ]
  },
  {
   "cell_type": "code",
   "execution_count": 4,
   "id": "17828285",
   "metadata": {},
   "outputs": [
    {
     "name": "stdout",
     "output_type": "stream",
     "text": [
      "2.4516129032258065\n"
     ]
    }
   ],
   "source": [
    "print(div)"
   ]
  },
  {
   "cell_type": "code",
   "execution_count": 5,
   "id": "71747d1c",
   "metadata": {},
   "outputs": [],
   "source": [
    "import math as m"
   ]
  },
  {
   "cell_type": "code",
   "execution_count": 9,
   "id": "5d95e112",
   "metadata": {},
   "outputs": [
    {
     "data": {
      "text/plain": [
       "2"
      ]
     },
     "execution_count": 9,
     "metadata": {},
     "output_type": "execute_result"
    }
   ],
   "source": [
    "m.floor(div)"
   ]
  },
  {
   "cell_type": "code",
   "execution_count": 3,
   "id": "3a6c67de",
   "metadata": {},
   "outputs": [
    {
     "name": "stdout",
     "output_type": "stream",
     "text": [
      "Enter the num1:76\n",
      "Enter the num2:31\n"
     ]
    }
   ],
   "source": [
    "g=int(input(\"Enter the num1:\"))\n",
    "h=int(input(\"Enter the num2:\"))"
   ]
  },
  {
   "cell_type": "code",
   "execution_count": 6,
   "id": "bcf1e492",
   "metadata": {},
   "outputs": [],
   "source": [
    "MOD=(g%h)"
   ]
  },
  {
   "cell_type": "code",
   "execution_count": 7,
   "id": "79182876",
   "metadata": {},
   "outputs": [
    {
     "name": "stdout",
     "output_type": "stream",
     "text": [
      "14\n"
     ]
    }
   ],
   "source": [
    "print(MOD)"
   ]
  },
  {
   "cell_type": "code",
   "execution_count": 8,
   "id": "1cb1a41a",
   "metadata": {},
   "outputs": [
    {
     "name": "stdout",
     "output_type": "stream",
     "text": [
      "Enter the num1:4\n",
      "Enter the num2:4\n"
     ]
    }
   ],
   "source": [
    "a=int(input(\"Enter the num1:\"))\n",
    "b=int(input(\"Enter the num2:\"))"
   ]
  },
  {
   "cell_type": "code",
   "execution_count": 19,
   "id": "a9c52f6d",
   "metadata": {},
   "outputs": [],
   "source": [
    "square=pow(a,b)"
   ]
  },
  {
   "cell_type": "code",
   "execution_count": 20,
   "id": "57014f30",
   "metadata": {},
   "outputs": [
    {
     "name": "stdout",
     "output_type": "stream",
     "text": [
      "256\n"
     ]
    }
   ],
   "source": [
    "print(square)"
   ]
  },
  {
   "cell_type": "code",
   "execution_count": null,
   "id": "445d5b26",
   "metadata": {},
   "outputs": [],
   "source": []
  }
 ],
 "metadata": {
  "kernelspec": {
   "display_name": "Python 3 (ipykernel)",
   "language": "python",
   "name": "python3"
  },
  "language_info": {
   "codemirror_mode": {
    "name": "ipython",
    "version": 3
   },
   "file_extension": ".py",
   "mimetype": "text/x-python",
   "name": "python",
   "nbconvert_exporter": "python",
   "pygments_lexer": "ipython3",
   "version": "3.11.5"
  }
 },
 "nbformat": 4,
 "nbformat_minor": 5
}
